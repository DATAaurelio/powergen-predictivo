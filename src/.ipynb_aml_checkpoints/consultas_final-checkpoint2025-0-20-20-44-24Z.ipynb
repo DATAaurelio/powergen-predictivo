{
  "cells": [
    {
      "cell_type": "markdown",
      "source": [
        "**Importa las bibliotecas necesarias.**"
      ],
      "metadata": {
        "nteract": {
          "transient": {
            "deleting": false
          }
        }
      }
    },
    {
      "cell_type": "code",
      "source": [
        "import psycopg2\n",
        "from psycopg2 import Error # Importar la clase Error\n",
        "from psycopg2 import sql\n",
        "import pandas as pd"
      ],
      "outputs": [],
      "execution_count": 1,
      "metadata": {
        "gather": {
          "logged": 1737377701028
        }
      }
    },
    {
      "cell_type": "markdown",
      "source": [
        "**Función para ejecutar una consulta SQL**"
      ],
      "metadata": {
        "nteract": {
          "transient": {
            "deleting": false
          }
        }
      }
    },
    {
      "cell_type": "code",
      "source": [
        "# Función para ejecutar una consulta SQL parametrizada\n",
        "def execute_query(conn, query, params=None):\n",
        "    \"\"\"\n",
        "    Ejecuta una consulta SQL con manejo de errores y soporte para parámetros.\n",
        "    \"\"\"\n",
        "    try:\n",
        "        with conn.cursor() as cursor:\n",
        "            if params:\n",
        "                cursor.execute(query, params)  # Pasar parámetros correctamente\n",
        "            else:\n",
        "                cursor.execute(query)\n",
        "            \n",
        "            conn.commit()\n",
        "            print(f\"Query executed successfully: {query[:50]}...\")\n",
        "            \n",
        "            if cursor.description:\n",
        "                return cursor.fetchall(), [desc[0] for desc in cursor.description]  # Obtener nombres de columnas\n",
        "            else:\n",
        "                return [], []  # Retornar listas vacías si no hay resultados\n",
        "    except psycopg2.Error as err:\n",
        "        conn.rollback()\n",
        "        print(f\"Error executing query: {err}\")\n",
        "        return [], []\n"
      ],
      "outputs": [],
      "execution_count": 2,
      "metadata": {
        "jupyter": {
          "source_hidden": false,
          "outputs_hidden": false
        },
        "nteract": {
          "transient": {
            "deleting": false
          }
        },
        "gather": {
          "logged": 1737377701113
        }
      }
    },
    {
      "cell_type": "markdown",
      "source": [
        "**Conexión a la base de datos de PostgreSQL data_powergen**"
      ],
      "metadata": {
        "nteract": {
          "transient": {
            "deleting": false
          }
        }
      }
    },
    {
      "cell_type": "code",
      "source": [
        "# Conexión a la base de datos\n",
        "def create_database_connection():\n",
        "    conn = None\n",
        "    try:\n",
        "        conn = psycopg2.connect(\n",
        "            database=\"data_powergen\", \n",
        "            user=\"datafundamental_owner\", \n",
        "            password=\"uozci0wQGpA6\", \n",
        "            host=\"ep-solitary-pond-a2p3evpo.eu-central-1.aws.neon.tech\", \n",
        "            sslmode=\"require\", \n",
        "            port=5432\n",
        "        )\n",
        "        print(\"Connected to 'data_powergen' successfully.\")\n",
        "    except psycopg2.Error as err:\n",
        "        print(f\"Error: {err}\")\n",
        "    return conn"
      ],
      "outputs": [],
      "execution_count": 3,
      "metadata": {
        "jupyter": {
          "source_hidden": false,
          "outputs_hidden": false
        },
        "nteract": {
          "transient": {
            "deleting": false
          }
        },
        "gather": {
          "logged": 1737377701203
        }
      }
    },
    {
      "cell_type": "markdown",
      "source": [
        "**Crea la tabla resultados_join y la lista de consultas a ejecutar.**"
      ],
      "metadata": {
        "nteract": {
          "transient": {
            "deleting": false
          }
        }
      }
    },
    {
      "cell_type": "code",
      "source": [
        "\n",
        "sql_queries = {\n",
        "    \"create_resultados_join\": \"\"\"\n",
        "        CREATE TABLE IF NOT EXISTS resultados_join AS\n",
        "        SELECT \n",
        "            h.id_equipo,\n",
        "            COUNT(h.id_orden) AS total_ordenes_mantenimiento,\n",
        "            AVG(r.temperatura_c) AS promedio_temperatura,\n",
        "            AVG(r.vibracion_mm_s) AS promedio_vibracion,\n",
        "            AVG(r.presion_bar) AS promedio_presion\n",
        "        FROM historicos_ordenes h\n",
        "        LEFT JOIN registros_condiciones r\n",
        "        ON h.id_equipo = r.id_equipo\n",
        "        GROUP BY h.id_equipo;\n",
        "    \"\"\",\n",
        "    \"total_ordenes_por_equipo\": \"\"\"\n",
        "        SELECT id_equipo, COUNT(id_orden) AS total_ordenes\n",
        "        FROM historicos_ordenes\n",
        "        GROUP BY id_equipo;\n",
        "    \"\"\",\n",
        "    \"duracion_promedio_vida_util\": \"\"\"\n",
        "        SELECT AVG(vida_util_anios) AS duracion_promedio_vida_util\n",
        "        FROM caracteristicas_equipos;\n",
        "    \"\"\",\n",
        "    \"costo_promedio_correctivo\": \"\"\"\n",
        "        SELECT AVG(costo_mantenimiento) AS costo_promedio_correctivo\n",
        "        FROM historicos_ordenes\n",
        "        WHERE tipo_mantenimiento = 'Correctivo';\n",
        "    \"\"\",\n",
        "    \"equipo_mas_fallas\": \"\"\"\n",
        "        SELECT id_equipo, COUNT(id_orden) AS total_correctivo\n",
        "        FROM historicos_ordenes\n",
        "        WHERE tipo_mantenimiento = 'Correctivo'\n",
        "        GROUP BY id_equipo\n",
        "        ORDER BY total_correctivo DESC\n",
        "        LIMIT 1;\n",
        "    \"\"\",\n",
        "    \"temperatura_resumen\": \"\"\"\n",
        "        SELECT id_equipo, AVG(temperatura_c) AS promedio_temp, MAX(temperatura_c) AS max_temp\n",
        "        FROM registros_condiciones\n",
        "        GROUP BY id_equipo;\n",
        "    \"\"\",\n",
        "   \n",
        "    \"dias_vibracion_temperatura\": \"\"\"\n",
        "        SELECT *\n",
        "        FROM registros_condiciones\n",
        "        WHERE vibracion_mm_s > 3.0 AND temperatura_c > 60;\n",
        "    \"\"\",\n",
        "    \"tiempo_promedio_mantenimiento\": \"\"\"\n",
        "        WITH diferencias AS (\n",
        "            SELECT \n",
        "                id_equipo,\n",
        "                EXTRACT(EPOCH FROM AGE(fecha, LAG(fecha) OVER (PARTITION BY id_equipo ORDER BY fecha))) / 3600 AS tiempo_entre_mantenimientos\n",
        "            FROM historicos_ordenes\n",
        "        )\n",
        "        SELECT \n",
        "            id_equipo, \n",
        "            AVG(tiempo_entre_mantenimientos) AS tiempo_promedio_horas\n",
        "        FROM diferencias\n",
        "        GROUP BY id_equipo;\n",
        "    \"\"\",\n",
        "    \"suma_horas_acumuladas\": \"\"\"\n",
        "        SELECT id_equipo, SUM(horas_acumuladas) AS total_horas_acumuladas\n",
        "        FROM registros_condiciones\n",
        "        GROUP BY id_equipo;\n",
        "    \"\"\"\n",
        "}\n",
        "\n"
      ],
      "outputs": [],
      "execution_count": 12,
      "metadata": {
        "jupyter": {
          "source_hidden": false,
          "outputs_hidden": false
        },
        "nteract": {
          "transient": {
            "deleting": false
          }
        },
        "gather": {
          "logged": 1737378727899
        }
      }
    },
    {
      "cell_type": "markdown",
      "source": [
        "**Consulta parametrizada utilizando el módulo sql de psycopg2**"
      ],
      "metadata": {
        "nteract": {
          "transient": {
            "deleting": false
          }
        }
      }
    },
    {
      "cell_type": "code",
      "source": [
        " # Consulta parametrizada utilizando el módulo sql de psycopg2\n",
        "query_parametrizada =\"\"\"\n",
        "    SELECT id_orden, id_equipo, costo_mantenimiento, tiempo_reparacion_horas\n",
        "    FROM historicos_ordenes\n",
        "    WHERE tipo_mantenimiento = 'Correctivo' AND id_equipo = %s;\n",
        "    \"\"\""
      ],
      "outputs": [],
      "execution_count": null,
      "metadata": {}
    },
    {
      "cell_type": "markdown",
      "source": [
        "**Ejecutar las consultas y mostrar resultados ordenados**"
      ],
      "metadata": {
        "nteract": {
          "transient": {
            "deleting": false
          }
        }
      }
    },
    {
      "cell_type": "code",
      "source": [
        "# Ejecutar las consultas y mostrar resultados ordenados\n",
        "if __name__ == \"__main__\":\n",
        "    conn = create_database_connection()\n",
        "    if conn:\n",
        "        equipo_id = ('E005',)  # Parámetro debe ser tupla para psycopg2\n",
        "        print(\"Executing query: ordenes_correctivas_equipo\")\n",
        "        result, columns = execute_query(conn, query_parametrizada, equipo_id)\n",
        "\n",
        "        \n",
        "        for query_name, query in sql_queries.items():\n",
        "            print(f\"Executing query: {query_name}\")\n",
        "            result, columns = execute_query(conn, query)\n",
        "            if result and columns:\n",
        "                df = pd.DataFrame(result, columns=columns)\n",
        "                df_sorted = df.sort_values(by=df.columns[0])  # Ordenar por la primera columna\n",
        "                print(f\"Resultados de '{query_name}':\")\n",
        "                display(df_sorted)  # Mostrar tabla ordenada en el notebook\n",
        "            else:\n",
        "                print(f\"No data returned for query: {query_name}\")\n",
        "\n",
        "        # Cerrar conexión\n",
        "        conn.close()\n",
        "        print(\"Conexión cerrada.\")"
      ],
      "outputs": [
        {
          "output_type": "stream",
          "name": "stdout",
          "text": "Connected to 'data_powergen' successfully.\nExecuting query: ordenes_correctivas_equipo\nQuery executed successfully: \n    SELECT id_orden, id_equipo, costo_mantenimien...\nExecuting query: create_resultados_join\nQuery executed successfully: \n        CREATE TABLE IF NOT EXISTS resultados_joi...\nNo data returned for query: create_resultados_join\nExecuting query: total_ordenes_por_equipo\nQuery executed successfully: \n        SELECT id_equipo, COUNT(id_orden) AS tota...\nResultados de 'total_ordenes_por_equipo':\n"
        },
        {
          "output_type": "display_data",
          "data": {
            "text/plain": "   id_equipo  total_ordenes\n4       E001            487\n19      E002            485\n5       E003            506\n14      E004            539\n0       E005            502\n9       E006            473\n13      E007            485\n11      E008            531\n17      E009            507\n10      E010            537\n2       E011            483\n18      E012            470\n1       E013            496\n12      E014            464\n7       E015            495\n8       E016            478\n15      E017            532\n16      E018            498\n3       E019            516\n6       E020            516",
            "text/html": "<div>\n<style scoped>\n    .dataframe tbody tr th:only-of-type {\n        vertical-align: middle;\n    }\n\n    .dataframe tbody tr th {\n        vertical-align: top;\n    }\n\n    .dataframe thead th {\n        text-align: right;\n    }\n</style>\n<table border=\"1\" class=\"dataframe\">\n  <thead>\n    <tr style=\"text-align: right;\">\n      <th></th>\n      <th>id_equipo</th>\n      <th>total_ordenes</th>\n    </tr>\n  </thead>\n  <tbody>\n    <tr>\n      <th>4</th>\n      <td>E001</td>\n      <td>487</td>\n    </tr>\n    <tr>\n      <th>19</th>\n      <td>E002</td>\n      <td>485</td>\n    </tr>\n    <tr>\n      <th>5</th>\n      <td>E003</td>\n      <td>506</td>\n    </tr>\n    <tr>\n      <th>14</th>\n      <td>E004</td>\n      <td>539</td>\n    </tr>\n    <tr>\n      <th>0</th>\n      <td>E005</td>\n      <td>502</td>\n    </tr>\n    <tr>\n      <th>9</th>\n      <td>E006</td>\n      <td>473</td>\n    </tr>\n    <tr>\n      <th>13</th>\n      <td>E007</td>\n      <td>485</td>\n    </tr>\n    <tr>\n      <th>11</th>\n      <td>E008</td>\n      <td>531</td>\n    </tr>\n    <tr>\n      <th>17</th>\n      <td>E009</td>\n      <td>507</td>\n    </tr>\n    <tr>\n      <th>10</th>\n      <td>E010</td>\n      <td>537</td>\n    </tr>\n    <tr>\n      <th>2</th>\n      <td>E011</td>\n      <td>483</td>\n    </tr>\n    <tr>\n      <th>18</th>\n      <td>E012</td>\n      <td>470</td>\n    </tr>\n    <tr>\n      <th>1</th>\n      <td>E013</td>\n      <td>496</td>\n    </tr>\n    <tr>\n      <th>12</th>\n      <td>E014</td>\n      <td>464</td>\n    </tr>\n    <tr>\n      <th>7</th>\n      <td>E015</td>\n      <td>495</td>\n    </tr>\n    <tr>\n      <th>8</th>\n      <td>E016</td>\n      <td>478</td>\n    </tr>\n    <tr>\n      <th>15</th>\n      <td>E017</td>\n      <td>532</td>\n    </tr>\n    <tr>\n      <th>16</th>\n      <td>E018</td>\n      <td>498</td>\n    </tr>\n    <tr>\n      <th>3</th>\n      <td>E019</td>\n      <td>516</td>\n    </tr>\n    <tr>\n      <th>6</th>\n      <td>E020</td>\n      <td>516</td>\n    </tr>\n  </tbody>\n</table>\n</div>"
          },
          "metadata": {}
        },
        {
          "output_type": "stream",
          "name": "stdout",
          "text": "Executing query: duracion_promedio_vida_util\nQuery executed successfully: \n        SELECT AVG(vida_util_anios) AS duracion_p...\nResultados de 'duracion_promedio_vida_util':\n"
        },
        {
          "output_type": "display_data",
          "data": {
            "text/plain": "  duracion_promedio_vida_util\n0         19.0000000000000000",
            "text/html": "<div>\n<style scoped>\n    .dataframe tbody tr th:only-of-type {\n        vertical-align: middle;\n    }\n\n    .dataframe tbody tr th {\n        vertical-align: top;\n    }\n\n    .dataframe thead th {\n        text-align: right;\n    }\n</style>\n<table border=\"1\" class=\"dataframe\">\n  <thead>\n    <tr style=\"text-align: right;\">\n      <th></th>\n      <th>duracion_promedio_vida_util</th>\n    </tr>\n  </thead>\n  <tbody>\n    <tr>\n      <th>0</th>\n      <td>19.0000000000000000</td>\n    </tr>\n  </tbody>\n</table>\n</div>"
          },
          "metadata": {}
        },
        {
          "output_type": "stream",
          "name": "stdout",
          "text": "Executing query: costo_promedio_correctivo\nQuery executed successfully: \n        SELECT AVG(costo_mantenimiento) AS costo_...\nResultados de 'costo_promedio_correctivo':\n"
        },
        {
          "output_type": "display_data",
          "data": {
            "text/plain": "  costo_promedio_correctivo\n0     2711.4088353413654618",
            "text/html": "<div>\n<style scoped>\n    .dataframe tbody tr th:only-of-type {\n        vertical-align: middle;\n    }\n\n    .dataframe tbody tr th {\n        vertical-align: top;\n    }\n\n    .dataframe thead th {\n        text-align: right;\n    }\n</style>\n<table border=\"1\" class=\"dataframe\">\n  <thead>\n    <tr style=\"text-align: right;\">\n      <th></th>\n      <th>costo_promedio_correctivo</th>\n    </tr>\n  </thead>\n  <tbody>\n    <tr>\n      <th>0</th>\n      <td>2711.4088353413654618</td>\n    </tr>\n  </tbody>\n</table>\n</div>"
          },
          "metadata": {}
        },
        {
          "output_type": "stream",
          "name": "stdout",
          "text": "Executing query: equipo_mas_fallas\nQuery executed successfully: \n        SELECT id_equipo, COUNT(id_orden) AS tota...\nResultados de 'equipo_mas_fallas':\n"
        },
        {
          "output_type": "display_data",
          "data": {
            "text/plain": "  id_equipo  total_correctivo\n0      E010               272",
            "text/html": "<div>\n<style scoped>\n    .dataframe tbody tr th:only-of-type {\n        vertical-align: middle;\n    }\n\n    .dataframe tbody tr th {\n        vertical-align: top;\n    }\n\n    .dataframe thead th {\n        text-align: right;\n    }\n</style>\n<table border=\"1\" class=\"dataframe\">\n  <thead>\n    <tr style=\"text-align: right;\">\n      <th></th>\n      <th>id_equipo</th>\n      <th>total_correctivo</th>\n    </tr>\n  </thead>\n  <tbody>\n    <tr>\n      <th>0</th>\n      <td>E010</td>\n      <td>272</td>\n    </tr>\n  </tbody>\n</table>\n</div>"
          },
          "metadata": {}
        },
        {
          "output_type": "stream",
          "name": "stdout",
          "text": "Executing query: temperatura_resumen\nQuery executed successfully: \n        SELECT id_equipo, AVG(temperatura_c) AS p...\nResultados de 'temperatura_resumen':\n"
        },
        {
          "output_type": "display_data",
          "data": {
            "text/plain": "   id_equipo        promedio_temp max_temp\n4       E001  49.8715505617977528    79.92\n17      E002  48.0370257611241218    79.97\n5       E003  51.3045628997867804    79.99\n14      E004  48.8249372384937238    79.96\n0       E005  50.4801952277657267     80.0\n9       E006  49.6764120370370370     80.0\n13      E007  50.6467458432304038    79.92\n11      E008  50.4663655913978495    79.92\n19      E009  50.5166666666666667    79.98\n10      E010  49.4946860986547085    79.89\n2       E011  49.4766952789699571    79.99\n18      E012  50.8509813084112150     79.9\n1       E013  51.2583956043956044     80.0\n12      E014  49.7002795698924731    79.84\n8       E015  50.8351619870410367    79.97\n7       E016  50.5321145374449339    79.91\n16      E017  51.2141491841491841    79.71\n15      E018  49.9259414225941423    79.96\n3       E019  49.9776872246696035    79.94\n6       E020  49.8497505668934240    78.92",
            "text/html": "<div>\n<style scoped>\n    .dataframe tbody tr th:only-of-type {\n        vertical-align: middle;\n    }\n\n    .dataframe tbody tr th {\n        vertical-align: top;\n    }\n\n    .dataframe thead th {\n        text-align: right;\n    }\n</style>\n<table border=\"1\" class=\"dataframe\">\n  <thead>\n    <tr style=\"text-align: right;\">\n      <th></th>\n      <th>id_equipo</th>\n      <th>promedio_temp</th>\n      <th>max_temp</th>\n    </tr>\n  </thead>\n  <tbody>\n    <tr>\n      <th>4</th>\n      <td>E001</td>\n      <td>49.8715505617977528</td>\n      <td>79.92</td>\n    </tr>\n    <tr>\n      <th>17</th>\n      <td>E002</td>\n      <td>48.0370257611241218</td>\n      <td>79.97</td>\n    </tr>\n    <tr>\n      <th>5</th>\n      <td>E003</td>\n      <td>51.3045628997867804</td>\n      <td>79.99</td>\n    </tr>\n    <tr>\n      <th>14</th>\n      <td>E004</td>\n      <td>48.8249372384937238</td>\n      <td>79.96</td>\n    </tr>\n    <tr>\n      <th>0</th>\n      <td>E005</td>\n      <td>50.4801952277657267</td>\n      <td>80.0</td>\n    </tr>\n    <tr>\n      <th>9</th>\n      <td>E006</td>\n      <td>49.6764120370370370</td>\n      <td>80.0</td>\n    </tr>\n    <tr>\n      <th>13</th>\n      <td>E007</td>\n      <td>50.6467458432304038</td>\n      <td>79.92</td>\n    </tr>\n    <tr>\n      <th>11</th>\n      <td>E008</td>\n      <td>50.4663655913978495</td>\n      <td>79.92</td>\n    </tr>\n    <tr>\n      <th>19</th>\n      <td>E009</td>\n      <td>50.5166666666666667</td>\n      <td>79.98</td>\n    </tr>\n    <tr>\n      <th>10</th>\n      <td>E010</td>\n      <td>49.4946860986547085</td>\n      <td>79.89</td>\n    </tr>\n    <tr>\n      <th>2</th>\n      <td>E011</td>\n      <td>49.4766952789699571</td>\n      <td>79.99</td>\n    </tr>\n    <tr>\n      <th>18</th>\n      <td>E012</td>\n      <td>50.8509813084112150</td>\n      <td>79.9</td>\n    </tr>\n    <tr>\n      <th>1</th>\n      <td>E013</td>\n      <td>51.2583956043956044</td>\n      <td>80.0</td>\n    </tr>\n    <tr>\n      <th>12</th>\n      <td>E014</td>\n      <td>49.7002795698924731</td>\n      <td>79.84</td>\n    </tr>\n    <tr>\n      <th>8</th>\n      <td>E015</td>\n      <td>50.8351619870410367</td>\n      <td>79.97</td>\n    </tr>\n    <tr>\n      <th>7</th>\n      <td>E016</td>\n      <td>50.5321145374449339</td>\n      <td>79.91</td>\n    </tr>\n    <tr>\n      <th>16</th>\n      <td>E017</td>\n      <td>51.2141491841491841</td>\n      <td>79.71</td>\n    </tr>\n    <tr>\n      <th>15</th>\n      <td>E018</td>\n      <td>49.9259414225941423</td>\n      <td>79.96</td>\n    </tr>\n    <tr>\n      <th>3</th>\n      <td>E019</td>\n      <td>49.9776872246696035</td>\n      <td>79.94</td>\n    </tr>\n    <tr>\n      <th>6</th>\n      <td>E020</td>\n      <td>49.8497505668934240</td>\n      <td>78.92</td>\n    </tr>\n  </tbody>\n</table>\n</div>"
          },
          "metadata": {}
        },
        {
          "output_type": "stream",
          "name": "stdout",
          "text": "Executing query: ordenes_correctivas_equipo\nError executing query: syntax error at or near \"%\"\nLINE 4: ... WHERE tipo_mantenimiento = 'Correctivo' AND id_equipo = %s;\n                                                                    ^\n\nNo data returned for query: ordenes_correctivas_equipo\nExecuting query: dias_vibracion_temperatura\nQuery executed successfully: \n        SELECT *\n        FROM registros_condicion...\nResultados de 'dias_vibracion_temperatura':\n"
        },
        {
          "output_type": "display_data",
          "data": {
            "text/plain": "     id_equipo       fecha horas_operativas temperatura_c vibracion_mm_s  \\\n1253      E001  2046-01-14                6         76.56           4.83   \n965       E001  2040-10-04                3         68.56           4.81   \n955       E001  2040-07-24               17         73.33           4.32   \n954       E001  2040-07-17                0          62.0           3.47   \n1294      E001  2046-09-11               17         66.66           4.17   \n...        ...         ...              ...           ...            ...   \n1144      E020  2043-11-01                9         74.72           3.97   \n141       E020  2025-10-16               17         63.74           3.02   \n48        E020  2023-11-22                2         73.81           4.65   \n248       E020  2027-12-12                3         77.25            4.7   \n429       E020  2031-02-22                2         67.55           3.98   \n\n     presion_bar horas_acumuladas  \n1253         9.0             4638  \n965         8.02             3407  \n955          8.3             3316  \n954         2.46             3299  \n1294        4.29             4872  \n...          ...              ...  \n1144        9.89             4235  \n141         6.71              595  \n48           7.9              238  \n248         8.37              943  \n429         5.54             1502  \n\n[1351 rows x 7 columns]",
            "text/html": "<div>\n<style scoped>\n    .dataframe tbody tr th:only-of-type {\n        vertical-align: middle;\n    }\n\n    .dataframe tbody tr th {\n        vertical-align: top;\n    }\n\n    .dataframe thead th {\n        text-align: right;\n    }\n</style>\n<table border=\"1\" class=\"dataframe\">\n  <thead>\n    <tr style=\"text-align: right;\">\n      <th></th>\n      <th>id_equipo</th>\n      <th>fecha</th>\n      <th>horas_operativas</th>\n      <th>temperatura_c</th>\n      <th>vibracion_mm_s</th>\n      <th>presion_bar</th>\n      <th>horas_acumuladas</th>\n    </tr>\n  </thead>\n  <tbody>\n    <tr>\n      <th>1253</th>\n      <td>E001</td>\n      <td>2046-01-14</td>\n      <td>6</td>\n      <td>76.56</td>\n      <td>4.83</td>\n      <td>9.0</td>\n      <td>4638</td>\n    </tr>\n    <tr>\n      <th>965</th>\n      <td>E001</td>\n      <td>2040-10-04</td>\n      <td>3</td>\n      <td>68.56</td>\n      <td>4.81</td>\n      <td>8.02</td>\n      <td>3407</td>\n    </tr>\n    <tr>\n      <th>955</th>\n      <td>E001</td>\n      <td>2040-07-24</td>\n      <td>17</td>\n      <td>73.33</td>\n      <td>4.32</td>\n      <td>8.3</td>\n      <td>3316</td>\n    </tr>\n    <tr>\n      <th>954</th>\n      <td>E001</td>\n      <td>2040-07-17</td>\n      <td>0</td>\n      <td>62.0</td>\n      <td>3.47</td>\n      <td>2.46</td>\n      <td>3299</td>\n    </tr>\n    <tr>\n      <th>1294</th>\n      <td>E001</td>\n      <td>2046-09-11</td>\n      <td>17</td>\n      <td>66.66</td>\n      <td>4.17</td>\n      <td>4.29</td>\n      <td>4872</td>\n    </tr>\n    <tr>\n      <th>...</th>\n      <td>...</td>\n      <td>...</td>\n      <td>...</td>\n      <td>...</td>\n      <td>...</td>\n      <td>...</td>\n      <td>...</td>\n    </tr>\n    <tr>\n      <th>1144</th>\n      <td>E020</td>\n      <td>2043-11-01</td>\n      <td>9</td>\n      <td>74.72</td>\n      <td>3.97</td>\n      <td>9.89</td>\n      <td>4235</td>\n    </tr>\n    <tr>\n      <th>141</th>\n      <td>E020</td>\n      <td>2025-10-16</td>\n      <td>17</td>\n      <td>63.74</td>\n      <td>3.02</td>\n      <td>6.71</td>\n      <td>595</td>\n    </tr>\n    <tr>\n      <th>48</th>\n      <td>E020</td>\n      <td>2023-11-22</td>\n      <td>2</td>\n      <td>73.81</td>\n      <td>4.65</td>\n      <td>7.9</td>\n      <td>238</td>\n    </tr>\n    <tr>\n      <th>248</th>\n      <td>E020</td>\n      <td>2027-12-12</td>\n      <td>3</td>\n      <td>77.25</td>\n      <td>4.7</td>\n      <td>8.37</td>\n      <td>943</td>\n    </tr>\n    <tr>\n      <th>429</th>\n      <td>E020</td>\n      <td>2031-02-22</td>\n      <td>2</td>\n      <td>67.55</td>\n      <td>3.98</td>\n      <td>5.54</td>\n      <td>1502</td>\n    </tr>\n  </tbody>\n</table>\n<p>1351 rows × 7 columns</p>\n</div>"
          },
          "metadata": {}
        },
        {
          "output_type": "stream",
          "name": "stdout",
          "text": "Executing query: tiempo_promedio_mantenimiento\nQuery executed successfully: \n        WITH diferencias AS (\n            SELECT ...\nResultados de 'tiempo_promedio_mantenimiento':\n"
        },
        {
          "output_type": "display_data",
          "data": {
            "text/plain": "   id_equipo tiempo_promedio_horas\n0       E001  487.3580246913580247\n1       E002  492.4958677685950413\n2       E003  470.4475247524752475\n3       E004  442.7063197026022305\n4       E005  474.5868263473053892\n5       E006  505.2711864406779661\n6       E007  488.5289256198347107\n7       E008  445.9924528301886792\n8       E009  467.7154150197628458\n9       E010  443.7313432835820896\n10      E011  492.2489626556016598\n11      E012  507.9402985074626866\n12      E013  482.1333333333333333\n13      E014  512.6565874730021598\n14      E015  480.4858299595141700\n15      E016  500.1761006289308176\n16      E017  449.3107344632768362\n17      E018  479.7102615694164990\n18      E019  460.1475728155339806\n19      E020  460.6601941747572816",
            "text/html": "<div>\n<style scoped>\n    .dataframe tbody tr th:only-of-type {\n        vertical-align: middle;\n    }\n\n    .dataframe tbody tr th {\n        vertical-align: top;\n    }\n\n    .dataframe thead th {\n        text-align: right;\n    }\n</style>\n<table border=\"1\" class=\"dataframe\">\n  <thead>\n    <tr style=\"text-align: right;\">\n      <th></th>\n      <th>id_equipo</th>\n      <th>tiempo_promedio_horas</th>\n    </tr>\n  </thead>\n  <tbody>\n    <tr>\n      <th>0</th>\n      <td>E001</td>\n      <td>487.3580246913580247</td>\n    </tr>\n    <tr>\n      <th>1</th>\n      <td>E002</td>\n      <td>492.4958677685950413</td>\n    </tr>\n    <tr>\n      <th>2</th>\n      <td>E003</td>\n      <td>470.4475247524752475</td>\n    </tr>\n    <tr>\n      <th>3</th>\n      <td>E004</td>\n      <td>442.7063197026022305</td>\n    </tr>\n    <tr>\n      <th>4</th>\n      <td>E005</td>\n      <td>474.5868263473053892</td>\n    </tr>\n    <tr>\n      <th>5</th>\n      <td>E006</td>\n      <td>505.2711864406779661</td>\n    </tr>\n    <tr>\n      <th>6</th>\n      <td>E007</td>\n      <td>488.5289256198347107</td>\n    </tr>\n    <tr>\n      <th>7</th>\n      <td>E008</td>\n      <td>445.9924528301886792</td>\n    </tr>\n    <tr>\n      <th>8</th>\n      <td>E009</td>\n      <td>467.7154150197628458</td>\n    </tr>\n    <tr>\n      <th>9</th>\n      <td>E010</td>\n      <td>443.7313432835820896</td>\n    </tr>\n    <tr>\n      <th>10</th>\n      <td>E011</td>\n      <td>492.2489626556016598</td>\n    </tr>\n    <tr>\n      <th>11</th>\n      <td>E012</td>\n      <td>507.9402985074626866</td>\n    </tr>\n    <tr>\n      <th>12</th>\n      <td>E013</td>\n      <td>482.1333333333333333</td>\n    </tr>\n    <tr>\n      <th>13</th>\n      <td>E014</td>\n      <td>512.6565874730021598</td>\n    </tr>\n    <tr>\n      <th>14</th>\n      <td>E015</td>\n      <td>480.4858299595141700</td>\n    </tr>\n    <tr>\n      <th>15</th>\n      <td>E016</td>\n      <td>500.1761006289308176</td>\n    </tr>\n    <tr>\n      <th>16</th>\n      <td>E017</td>\n      <td>449.3107344632768362</td>\n    </tr>\n    <tr>\n      <th>17</th>\n      <td>E018</td>\n      <td>479.7102615694164990</td>\n    </tr>\n    <tr>\n      <th>18</th>\n      <td>E019</td>\n      <td>460.1475728155339806</td>\n    </tr>\n    <tr>\n      <th>19</th>\n      <td>E020</td>\n      <td>460.6601941747572816</td>\n    </tr>\n  </tbody>\n</table>\n</div>"
          },
          "metadata": {}
        },
        {
          "output_type": "stream",
          "name": "stdout",
          "text": "Executing query: suma_horas_acumuladas\nQuery executed successfully: \n        SELECT id_equipo, SUM(horas_acumuladas) A...\nResultados de 'suma_horas_acumuladas':\n"
        },
        {
          "output_type": "display_data",
          "data": {
            "text/plain": "   id_equipo total_horas_acumuladas\n4       E001                1109279\n17      E002                1018046\n5       E003                1321047\n14      E004                1290416\n0       E005                1159735\n9       E006                1144940\n13      E007                1025130\n11      E008                1297036\n19      E009                1010513\n10      E010                1097655\n2       E011                1254707\n18      E012                 982406\n1       E013                1158429\n12      E014                1191799\n8       E015                1254729\n7       E016                1143346\n16      E017                1098901\n15      E018                1281649\n3       E019                1130584\n6       E020                1092826",
            "text/html": "<div>\n<style scoped>\n    .dataframe tbody tr th:only-of-type {\n        vertical-align: middle;\n    }\n\n    .dataframe tbody tr th {\n        vertical-align: top;\n    }\n\n    .dataframe thead th {\n        text-align: right;\n    }\n</style>\n<table border=\"1\" class=\"dataframe\">\n  <thead>\n    <tr style=\"text-align: right;\">\n      <th></th>\n      <th>id_equipo</th>\n      <th>total_horas_acumuladas</th>\n    </tr>\n  </thead>\n  <tbody>\n    <tr>\n      <th>4</th>\n      <td>E001</td>\n      <td>1109279</td>\n    </tr>\n    <tr>\n      <th>17</th>\n      <td>E002</td>\n      <td>1018046</td>\n    </tr>\n    <tr>\n      <th>5</th>\n      <td>E003</td>\n      <td>1321047</td>\n    </tr>\n    <tr>\n      <th>14</th>\n      <td>E004</td>\n      <td>1290416</td>\n    </tr>\n    <tr>\n      <th>0</th>\n      <td>E005</td>\n      <td>1159735</td>\n    </tr>\n    <tr>\n      <th>9</th>\n      <td>E006</td>\n      <td>1144940</td>\n    </tr>\n    <tr>\n      <th>13</th>\n      <td>E007</td>\n      <td>1025130</td>\n    </tr>\n    <tr>\n      <th>11</th>\n      <td>E008</td>\n      <td>1297036</td>\n    </tr>\n    <tr>\n      <th>19</th>\n      <td>E009</td>\n      <td>1010513</td>\n    </tr>\n    <tr>\n      <th>10</th>\n      <td>E010</td>\n      <td>1097655</td>\n    </tr>\n    <tr>\n      <th>2</th>\n      <td>E011</td>\n      <td>1254707</td>\n    </tr>\n    <tr>\n      <th>18</th>\n      <td>E012</td>\n      <td>982406</td>\n    </tr>\n    <tr>\n      <th>1</th>\n      <td>E013</td>\n      <td>1158429</td>\n    </tr>\n    <tr>\n      <th>12</th>\n      <td>E014</td>\n      <td>1191799</td>\n    </tr>\n    <tr>\n      <th>8</th>\n      <td>E015</td>\n      <td>1254729</td>\n    </tr>\n    <tr>\n      <th>7</th>\n      <td>E016</td>\n      <td>1143346</td>\n    </tr>\n    <tr>\n      <th>16</th>\n      <td>E017</td>\n      <td>1098901</td>\n    </tr>\n    <tr>\n      <th>15</th>\n      <td>E018</td>\n      <td>1281649</td>\n    </tr>\n    <tr>\n      <th>3</th>\n      <td>E019</td>\n      <td>1130584</td>\n    </tr>\n    <tr>\n      <th>6</th>\n      <td>E020</td>\n      <td>1092826</td>\n    </tr>\n  </tbody>\n</table>\n</div>"
          },
          "metadata": {}
        },
        {
          "output_type": "stream",
          "name": "stdout",
          "text": "Conexión cerrada.\n"
        }
      ],
      "execution_count": 13,
      "metadata": {
        "gather": {
          "logged": 1737378748826
        }
      }
    },
    {
      "cell_type": "markdown",
      "source": [],
      "metadata": {
        "nteract": {
          "transient": {
            "deleting": false
          }
        }
      }
    },
    {
      "cell_type": "code",
      "source": [
        "import psycopg2\n",
        "from psycopg2 import sql, Error\n",
        "import pandas as pd\n",
        "\n",
        "# Función para ejecutar una consulta SQL con parámetros\n",
        "def execute_query(conn, query, params=None):\n",
        "    \"\"\"\n",
        "    Ejecuta una consulta SQL con manejo de errores y soporte para parámetros.\n",
        "    \"\"\"\n",
        "    try:\n",
        "        with conn.cursor() as cursor:\n",
        "            cursor.execute(sql.SQL(query), params)  # Pasar la consulta como SQL seguro\n",
        "            conn.commit()\n",
        "            print(f\"Query executed successfully: {query[:50]}...\")\n",
        "\n",
        "            if cursor.description:\n",
        "                return cursor.fetchall(), [desc[0] for desc in cursor.description]  # Obtener nombres de columnas\n",
        "            else:\n",
        "                return [], []  # Retornar listas vacías si no hay resultados\n",
        "    except psycopg2.Error as err:\n",
        "        conn.rollback()\n",
        "        print(f\"Error executing query: {err}\")\n",
        "        return [], []\n",
        "\n",
        "# Función para conectar a la base de datos\n",
        "def create_database_connection():\n",
        "    try:\n",
        "        conn = psycopg2.connect(\n",
        "            database=\"data_powergen\", \n",
        "            user=\"datafundamental_owner\", \n",
        "            password=\"uozci0wQGpA6\", \n",
        "            host=\"ep-solitary-pond-a2p3evpo.eu-central-1.aws.neon.tech\", \n",
        "            sslmode=\"require\", \n",
        "            port=5432\n",
        "        )\n",
        "        print(\"Connected to 'data_powergen' successfully.\")\n",
        "        return conn\n",
        "    except psycopg2.Error as err:\n",
        "        print(f\"Error: {err}\")\n",
        "        return None\n",
        "\n",
        "# Consulta parametrizada utilizando el módulo sql de psycopg2\n",
        "query_parametrizada = \"\"\"\n",
        "    SELECT id_orden, id_equipo, costo_mantenimiento, tiempo_reparacion_horas\n",
        "    FROM historicos_ordenes\n",
        "    WHERE tipo_mantenimiento = 'Correctivo' AND id_equipo = %s;\n",
        "\"\"\"\n",
        "\n",
        "# Ejecutar las consultas con parámetros\n",
        "if __name__ == \"__main__\":\n",
        "    conn = create_database_connection()\n",
        "    if conn:\n",
        "        equipo_id = ('E005',)  # Parámetro debe ser tupla para psycopg2\n",
        "\n",
        "        print(\"Executing query: ordenes_correctivas_equipo\")\n",
        "        result, columns = execute_query(conn, query_parametrizada, equipo_id)\n",
        "\n",
        "        if result and columns:\n",
        "            # Convertir a DataFrame y ordenar por costo de mantenimiento\n",
        "            df = pd.DataFrame(result, columns=columns)\n",
        "            df_sorted = df.sort_values(by='costo_mantenimiento', ascending=False)\n",
        "\n",
        "            print(\"Resultados de la consulta parametrizada ordenados:\")\n",
        "            display(df_sorted)  # Mostrar resultados ordenados en Azure Notebook\n",
        "        else:\n",
        "            print(\"No data returned for query.\")\n",
        "\n",
        "        conn.close()\n",
        "        print(\"Conexión cerrada.\")\n"
      ],
      "outputs": [
        {
          "output_type": "stream",
          "name": "stdout",
          "text": "Connected to 'data_powergen' successfully.\nExecuting query: ordenes_correctivas_equipo\nQuery executed successfully: \n    SELECT id_orden, id_equipo, costo_mantenimien...\nResultados de la consulta parametrizada ordenados:\n"
        },
        {
          "output_type": "display_data",
          "data": {
            "text/plain": "     id_orden id_equipo costo_mantenimiento tiempo_reparacion_horas\n184  OT007244      E005                4984                       3\n80   OT003288      E005                4969                      34\n19   OT000671      E005                4956                      33\n64   OT002766      E005                4948                      29\n237  OT009182      E005                4946                      44\n..        ...       ...                 ...                     ...\n251  OT009941      E005                 577                       2\n70   OT002883      E005                 577                      16\n29   OT001226      E005                 556                      15\n222  OT008368      E005                 503                      41\n243  OT009396      E005                 501                       5\n\n[254 rows x 4 columns]",
            "text/html": "<div>\n<style scoped>\n    .dataframe tbody tr th:only-of-type {\n        vertical-align: middle;\n    }\n\n    .dataframe tbody tr th {\n        vertical-align: top;\n    }\n\n    .dataframe thead th {\n        text-align: right;\n    }\n</style>\n<table border=\"1\" class=\"dataframe\">\n  <thead>\n    <tr style=\"text-align: right;\">\n      <th></th>\n      <th>id_orden</th>\n      <th>id_equipo</th>\n      <th>costo_mantenimiento</th>\n      <th>tiempo_reparacion_horas</th>\n    </tr>\n  </thead>\n  <tbody>\n    <tr>\n      <th>184</th>\n      <td>OT007244</td>\n      <td>E005</td>\n      <td>4984</td>\n      <td>3</td>\n    </tr>\n    <tr>\n      <th>80</th>\n      <td>OT003288</td>\n      <td>E005</td>\n      <td>4969</td>\n      <td>34</td>\n    </tr>\n    <tr>\n      <th>19</th>\n      <td>OT000671</td>\n      <td>E005</td>\n      <td>4956</td>\n      <td>33</td>\n    </tr>\n    <tr>\n      <th>64</th>\n      <td>OT002766</td>\n      <td>E005</td>\n      <td>4948</td>\n      <td>29</td>\n    </tr>\n    <tr>\n      <th>237</th>\n      <td>OT009182</td>\n      <td>E005</td>\n      <td>4946</td>\n      <td>44</td>\n    </tr>\n    <tr>\n      <th>...</th>\n      <td>...</td>\n      <td>...</td>\n      <td>...</td>\n      <td>...</td>\n    </tr>\n    <tr>\n      <th>251</th>\n      <td>OT009941</td>\n      <td>E005</td>\n      <td>577</td>\n      <td>2</td>\n    </tr>\n    <tr>\n      <th>70</th>\n      <td>OT002883</td>\n      <td>E005</td>\n      <td>577</td>\n      <td>16</td>\n    </tr>\n    <tr>\n      <th>29</th>\n      <td>OT001226</td>\n      <td>E005</td>\n      <td>556</td>\n      <td>15</td>\n    </tr>\n    <tr>\n      <th>222</th>\n      <td>OT008368</td>\n      <td>E005</td>\n      <td>503</td>\n      <td>41</td>\n    </tr>\n    <tr>\n      <th>243</th>\n      <td>OT009396</td>\n      <td>E005</td>\n      <td>501</td>\n      <td>5</td>\n    </tr>\n  </tbody>\n</table>\n<p>254 rows × 4 columns</p>\n</div>"
          },
          "metadata": {}
        },
        {
          "output_type": "stream",
          "name": "stdout",
          "text": "Conexión cerrada.\n"
        }
      ],
      "execution_count": 10,
      "metadata": {
        "gather": {
          "logged": 1737378448355
        }
      }
    }
  ],
  "metadata": {
    "kernelspec": {
      "name": "python38-azureml",
      "language": "python",
      "display_name": "Python 3.8 - AzureML"
    },
    "language_info": {
      "name": "python",
      "version": "3.10.11",
      "mimetype": "text/x-python",
      "codemirror_mode": {
        "name": "ipython",
        "version": 3
      },
      "pygments_lexer": "ipython3",
      "nbconvert_exporter": "python",
      "file_extension": ".py"
    },
    "kernel_info": {
      "name": "python38-azureml"
    },
    "microsoft": {
      "host": {
        "AzureML": {
          "notebookHasBeenCompleted": true
        }
      }
    },
    "nteract": {
      "version": "nteract-front-end@1.0.0"
    }
  },
  "nbformat": 4,
  "nbformat_minor": 2
}