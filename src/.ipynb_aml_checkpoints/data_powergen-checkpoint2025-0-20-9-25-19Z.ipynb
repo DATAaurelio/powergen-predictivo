{
  "cells": [
    {
      "cell_type": "markdown",
      "source": [
        "**Instala pip install psycopg2 y pip install psycopg2-binary, para evitar el error de módulo no\n",
        "instalado. Importa todas las bibliotecas necesarias.**"
      ],
      "metadata": {
        "nteract": {
          "transient": {
            "deleting": false
          }
        }
      }
    },
    {
      "cell_type": "code",
      "source": [
        "import psycopg2\n",
        "from psycopg2 import Error # Importar la clase Error\n",
        "import os\n",
        "import pandas as pd\n",
        "from sqlalchemy import create_engine\n",
        "from psycopg2 import sql"
      ],
      "outputs": [],
      "execution_count": null,
      "metadata": {}
    },
    {
      "cell_type": "markdown",
      "source": [
        "**Realiza la conexión con tu base de datos PostgreSQL.**"
      ],
      "metadata": {
        "nteract": {
          "transient": {
            "deleting": false
          }
        }
      }
    },
    {
      "cell_type": "code",
      "source": [
        "def create_server_connection():\n",
        "    conn = None\n",
        "    try:\n",
        "        conn = psycopg2.connect(database=\"datafundamental\", \n",
        "                                user=\"datafundamental_owner\", \n",
        "                                password=\"uozci0wQGpA6\", \n",
        "                                host=\"ep-solitary-ponda2p3evpo.eu-cetral-1.aws.neon.tech\", \n",
        "                                sslmode=\"require\", \n",
        "                                port=5432)\n",
        "        print(\"Database conn successful\")\n",
        "    except Error as err:\n",
        "        print(f\"Error: '{err}'\")\n",
        "\n",
        "    return conn\n",
        "connection = create_server_connection()\n",
        "connection.close()"
      ],
      "outputs": [],
      "execution_count": null,
      "metadata": {
        "jupyter": {
          "source_hidden": false,
          "outputs_hidden": false
        },
        "nteract": {
          "transient": {
            "deleting": false
          }
        }
      }
    },
    {
      "cell_type": "markdown",
      "source": [
        "**Crea estructura de carpetas y copia archivos CSV al directorio data.**"
      ],
      "metadata": {
        "nteract": {
          "transient": {
            "deleting": false
          }
        }
      }
    },
    {
      "cell_type": "code",
      "source": [
        "# Crear estructura de carpetas\n",
        "os.makedirs(\"repositorio/data\", exist_ok=True)\n",
        "os.makedirs(\"repositorio/src\", exist_ok=True)\n",
        "os.makedirs(\"repositorio/dist\", exist_ok=True)\n",
        "\n",
        "# Copiar archivos CSV al directorio `data`\n",
        "data_files = {\n",
        "\"Caracteristicas_Equipos.csv\": \"/mnt/data/Caracteristicas_Equipos.csv\",\n",
        "\"Historicos_Ordenes.csv\": \"/mnt/data/Historicos_Ordenes.csv\",\n",
        "\"Registros_Condiciones.csv\": \"/mnt/data/Registros_Condiciones.csv\",\n",
        "}\n",
        "\n",
        "for filename, path in data_files.items():\n",
        "os.system(f\"cp {path} repositorio/data/{filename}\")"
      ],
      "outputs": [],
      "execution_count": null,
      "metadata": {}
    },
    {
      "cell_type": "markdown",
      "source": [
        "**Crea las tablas correspondientes.**"
      ],
      "metadata": {
        "nteract": {
          "transient": {
            "deleting": false
          }
        }
      }
    },
    {
      "cell_type": "code",
      "source": [
        "def create_tables(engine):\n",
        "    \"\"\"Crea las tablas necesarias en PostgreSQL.\"\"\"\n",
        "    create_historicos_table = \"\"\"\n",
        "    CREATE TABLE IF NOT EXISTS historicos_ordenes (\n",
        "        id_orden VARCHAR PRIMARY KEY,\n",
        "        id_equipo VARCHAR NOT NULL,\n",
        "        fecha DATE NOT NULL,\n",
        "        tipo_mantenimiento VARCHAR NOT NULL,\n",
        "        tiempo_reparacion_horas NUMERIC NOT NULL,\n",
        "        costo_mantenimiento NUMERIC NOT NULL,\n",
        "        ubicacion VARCHAR NOT NULL\n",
        ");\n",
        "\"\"\"\n",
        "create_caracteristicas_table = \"\"\"\n",
        "\n",
        "CREATE TABLE IF NOT EXISTS caracteristicas_equipos (\n",
        "    id_equipo VARCHAR PRIMARY KEY,\n",
        "    tipo_equipo VARCHAR NOT NULL,\n",
        "    fabricante VARCHAR NOT NULL,\n",
        "    fecha_instalacion DATE NOT NULL,\n",
        "    vida_util_anios NUMERIC NOT NULL,\n",
        "    potencia_kw NUMERIC NOT NULL\n",
        ");\n",
        "\"\"\"\n",
        "create_registros_table = \"\"\"\n",
        "CREATE TABLE IF NOT EXISTS registros_condiciones (\n",
        "    id_equipo VARCHAR NOT NULL,\n",
        "    fecha DATE NOT NULL,\n",
        "    horas_operativas NUMERIC NOT NULL,\n",
        "    temperatura_c NUMERIC NOT NULL,\n",
        "    vibracion_mm_s NUMERIC NOT NULL,\n",
        "    presion_bar NUMERIC NOT NULL,\n",
        "    horas_acumuladas NUMERIC NOT NULL,\n",
        "    PRIMARY KEY (id_equipo, fecha)\n",
        ");\n",
        "\"\"\"\n",
        "with engine.connect() as connection:\n",
        "    connection.execute(create_historicos_table)\n",
        "    connection.execute(create_caracteristicas_table)\n",
        "    connection.execute(create_registros_table)"
      ],
      "outputs": [],
      "execution_count": null,
      "metadata": {}
    },
    {
      "cell_type": "markdown",
      "source": [
        "**Cargar datos a las tablas PostgreSQL.**"
      ],
      "metadata": {
        "nteract": {
          "transient": {
            "deleting": false
          }
        }
      }
    },
    {
      "cell_type": "code",
      "source": [
        "# Cargar datos a las tablas PostgreSQL\n",
        "def load_data_to_postgresql(engine, csv_path, table_name):\n",
        "    \"\"\"Carga un archivo CSV en una tabla de PostgreSQL.\"\"\"\n",
        "    df = pd.read_csv(csv_path)\n",
        "    df.to_sql(table_name, engine, if_exists=\"append\", index=False)\n",
        "\n",
        "# Ejecución\n",
        "engine = create_database_connection()\n",
        "create_tables(engine)\n",
        "\n",
        "# Cargar datos\n",
        "load_data_to_postgresql(engine, \"repositorio/data/Historicos_Ordenes.csv\", \"historicos_ordenes\")\n",
        "load_data_to_postgresql(engine, \"repositorio/data/Caracteristicas_Equipos.csv\", \"caracteristicas_equipos\")\n",
        "load_data_to_postgresql(engine, \"repositorio/data/Registros_Condiciones.csv\", \"registros_condiciones\")"
      ],
      "outputs": [],
      "execution_count": null,
      "metadata": {}
    },
    {
      "cell_type": "markdown",
      "source": [
        "**Verificar los resultados.**"
      ],
      "metadata": {
        "nteract": {
          "transient": {
            "deleting": false
          }
        }
      }
    },
    {
      "cell_type": "code",
      "source": [
        "# Verificar resultados\n",
        "historicos = pd.read_sql(\"SELECT * FROM historicos_ordenes LIMIT 5;\", engine)\n",
        "caracteristicas = pd.read_sql(\"SELECT * FROM caracteristicas_equipos LIMIT 5;\", engine)\n",
        "registros = pd.read_sql(\"SELECT * FROM registros_condiciones LIMIT 5;\", engine)\n",
        "\n",
        "import ace_tools as tools; tools.display_dataframe_to_user(\"Históricos de Órdenes\", historicos)\n",
        "tools.display_dataframe_to_user(\"Características de Equipos\", caracteristicas)\n",
        "tools.display_dataframe_to_user(\"Registros de Condiciones\", registros)"
      ],
      "outputs": [],
      "execution_count": null,
      "metadata": {}
    }
  ],
  "metadata": {
    "kernelspec": {
      "name": "python310-sdkv2",
      "language": "python",
      "display_name": "Python 3.10 - SDK v2"
    },
    "language_info": {
      "name": "python",
      "version": "3.10.14",
      "mimetype": "text/x-python",
      "codemirror_mode": {
        "name": "ipython",
        "version": 3
      },
      "pygments_lexer": "ipython3",
      "nbconvert_exporter": "python",
      "file_extension": ".py"
    },
    "microsoft": {
      "ms_spell_check": {
        "ms_spell_check_language": "es"
      }
    },
    "kernel_info": {
      "name": "python310-sdkv2"
    },
    "nteract": {
      "version": "nteract-front-end@1.0.0"
    }
  },
  "nbformat": 4,
  "nbformat_minor": 2
}