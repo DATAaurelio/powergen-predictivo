{
  "cells": [
    {
      "cell_type": "markdown",
      "source": [
        "**Importa las bibliotecas necesarias.**"
      ],
      "metadata": {
        "nteract": {
          "transient": {
            "deleting": false
          }
        }
      }
    },
    {
      "cell_type": "code",
      "source": [
        "import psycopg2\n",
        "from psycopg2 import Error # Importar la clase Error\n",
        "from psycopg2 import sql\n",
        "import pandas as pd"
      ],
      "outputs": [],
      "execution_count": 1,
      "metadata": {
        "gather": {
          "logged": 1737377701028
        }
      }
    },
    {
      "cell_type": "markdown",
      "source": [
        "**Función para ejecutar una consulta SQL**"
      ],
      "metadata": {
        "nteract": {
          "transient": {
            "deleting": false
          }
        }
      }
    },
    {
      "cell_type": "code",
      "source": [
        "# Función para ejecutar una consulta SQL parametrizada\n",
        "def execute_query(conn, query, params=None):\n",
        "    \"\"\"\n",
        "    Ejecuta una consulta SQL con manejo de errores y soporte para parámetros.\n",
        "    \"\"\"\n",
        "    try:\n",
        "        with conn.cursor() as cursor:\n",
        "            if params:\n",
        "                cursor.execute(query, params)  # Pasar parámetros correctamente\n",
        "            else:\n",
        "                cursor.execute(query)\n",
        "            \n",
        "            conn.commit()\n",
        "            print(f\"Query executed successfully: {query[:50]}...\")\n",
        "            \n",
        "            if cursor.description:\n",
        "                return cursor.fetchall(), [desc[0] for desc in cursor.description]  # Obtener nombres de columnas\n",
        "            else:\n",
        "                return [], []  # Retornar listas vacías si no hay resultados\n",
        "    except psycopg2.Error as err:\n",
        "        conn.rollback()\n",
        "        print(f\"Error executing query: {err}\")\n",
        "        return [], []\n"
      ],
      "outputs": [],
      "execution_count": 2,
      "metadata": {
        "jupyter": {
          "source_hidden": false,
          "outputs_hidden": false
        },
        "nteract": {
          "transient": {
            "deleting": false
          }
        },
        "gather": {
          "logged": 1737377701113
        }
      }
    },
    {
      "cell_type": "markdown",
      "source": [
        "**Conexión a la base de datos de PostgreSQL data_powergen**"
      ],
      "metadata": {
        "nteract": {
          "transient": {
            "deleting": false
          }
        }
      }
    },
    {
      "cell_type": "code",
      "source": [
        "# Conexión a la base de datos\n",
        "def create_database_connection():\n",
        "    conn = None\n",
        "    try:\n",
        "        conn = psycopg2.connect(\n",
        "            database=\"data_powergen\", \n",
        "            user=\"datafundamental_owner\", \n",
        "            password=\"uozci0wQGpA6\", \n",
        "            host=\"ep-solitary-pond-a2p3evpo.eu-central-1.aws.neon.tech\", \n",
        "            sslmode=\"require\", \n",
        "            port=5432\n",
        "        )\n",
        "        print(\"Connected to 'data_powergen' successfully.\")\n",
        "    except psycopg2.Error as err:\n",
        "        print(f\"Error: {err}\")\n",
        "    return conn"
      ],
      "outputs": [],
      "execution_count": 3,
      "metadata": {
        "jupyter": {
          "source_hidden": false,
          "outputs_hidden": false
        },
        "nteract": {
          "transient": {
            "deleting": false
          }
        },
        "gather": {
          "logged": 1737377701203
        }
      }
    },
    {
      "cell_type": "markdown",
      "source": [
        "**Crea la tabla resultados_join y la lista de consultas a ejecutar.**"
      ],
      "metadata": {
        "nteract": {
          "transient": {
            "deleting": false
          }
        }
      }
    },
    {
      "cell_type": "code",
      "source": [
        "query_parametrizada = \"\"\"\n",
        "    SELECT id_orden, id_equipo, costo_mantenimiento, tiempo_reparacion_horas\n",
        "    FROM historicos_ordenes\n",
        "    WHERE tipo_mantenimiento = 'Correctivo' AND id_equipo = %s;\n",
        "\"\"\"\n",
        "\n",
        "sql_queries = {\n",
        "    \"create_resultados_join\": \"\"\"\n",
        "        CREATE TABLE IF NOT EXISTS resultados_join AS\n",
        "        SELECT \n",
        "            h.id_equipo,\n",
        "            COUNT(h.id_orden) AS total_ordenes_mantenimiento,\n",
        "            AVG(r.temperatura_c) AS promedio_temperatura,\n",
        "            AVG(r.vibracion_mm_s) AS promedio_vibracion,\n",
        "            AVG(r.presion_bar) AS promedio_presion\n",
        "        FROM historicos_ordenes h\n",
        "        LEFT JOIN registros_condiciones r\n",
        "        ON h.id_equipo = r.id_equipo\n",
        "        GROUP BY h.id_equipo;\n",
        "    \"\"\",\n",
        "    \"total_ordenes_por_equipo\": \"\"\"\n",
        "        SELECT id_equipo, COUNT(id_orden) AS total_ordenes\n",
        "        FROM historicos_ordenes\n",
        "        GROUP BY id_equipo;\n",
        "    \"\"\",\n",
        "    \"duracion_promedio_vida_util\": \"\"\"\n",
        "        SELECT AVG(vida_util_anios) AS duracion_promedio_vida_util\n",
        "        FROM caracteristicas_equipos;\n",
        "    \"\"\",\n",
        "    \"costo_promedio_correctivo\": \"\"\"\n",
        "        SELECT AVG(costo_mantenimiento) AS costo_promedio_correctivo\n",
        "        FROM historicos_ordenes\n",
        "        WHERE tipo_mantenimiento = 'Correctivo';\n",
        "    \"\"\",\n",
        "    \"equipo_mas_fallas\": \"\"\"\n",
        "        SELECT id_equipo, COUNT(id_orden) AS total_correctivo\n",
        "        FROM historicos_ordenes\n",
        "        WHERE tipo_mantenimiento = 'Correctivo'\n",
        "        GROUP BY id_equipo\n",
        "        ORDER BY total_correctivo DESC\n",
        "        LIMIT 1;\n",
        "    \"\"\",\n",
        "    \"temperatura_resumen\": \"\"\"\n",
        "        SELECT id_equipo, AVG(temperatura_c) AS promedio_temp, MAX(temperatura_c) AS max_temp\n",
        "        FROM registros_condiciones\n",
        "        GROUP BY id_equipo;\n",
        "    \"\"\",\n",
        "    \"ordenes_correctivas_equipo\": \"\"\"\n",
        "        SELECT id_orden, id_equipo, costo_mantenimiento, tiempo_reparacion_horas\n",
        "        FROM historicos_ordenes\n",
        "        WHERE tipo_mantenimiento = 'Correctivo' AND id_equipo = %s;\n",
        "    \"\"\",\n",
        "    \"dias_vibracion_temperatura\": \"\"\"\n",
        "        SELECT *\n",
        "        FROM registros_condiciones\n",
        "        WHERE vibracion_mm_s > 3.0 AND temperatura_c > 60;\n",
        "    \"\"\",\n",
        "    \"tiempo_promedio_mantenimiento\": \"\"\"\n",
        "        WITH diferencias AS (\n",
        "            SELECT \n",
        "                id_equipo,\n",
        "                EXTRACT(EPOCH FROM AGE(fecha, LAG(fecha) OVER (PARTITION BY id_equipo ORDER BY fecha))) / 3600 AS tiempo_entre_mantenimientos\n",
        "            FROM historicos_ordenes\n",
        "        )\n",
        "        SELECT \n",
        "            id_equipo, \n",
        "            AVG(tiempo_entre_mantenimientos) AS tiempo_promedio_horas\n",
        "        FROM diferencias\n",
        "        GROUP BY id_equipo;\n",
        "    \"\"\",\n",
        "    \"suma_horas_acumuladas\": \"\"\"\n",
        "        SELECT id_equipo, SUM(horas_acumuladas) AS total_horas_acumuladas\n",
        "        FROM registros_condiciones\n",
        "        GROUP BY id_equipo;\n",
        "    \"\"\"\n",
        "}\n",
        "\n"
      ],
      "outputs": [],
      "execution_count": 7,
      "metadata": {
        "jupyter": {
          "source_hidden": false,
          "outputs_hidden": false
        },
        "nteract": {
          "transient": {
            "deleting": false
          }
        },
        "gather": {
          "logged": 1737378130000
        }
      }
    },
    {
      "cell_type": "markdown",
      "source": [
        "**Ejecutar las consultas y mostrar resultados ordenados**"
      ],
      "metadata": {
        "nteract": {
          "transient": {
            "deleting": false
          }
        }
      }
    },
    {
      "cell_type": "code",
      "source": [
        "# Ejecutar las consultas y mostrar resultados ordenados\n",
        "if __name__ == \"__main__\":\n",
        "    conn = create_database_connection()\n",
        "    if conn:\n",
        "        equipo_id = ('E005',)  # Parámetro debe ser tupla para psycopg2\n",
        "        print(\"Executing query: ordenes_correctivas_equipo\")\n",
        "        result, columns = execute_query(conn, query_parametrizada, equipo_id)\n",
        "\n",
        "        \n",
        "        for query_name, query in sql_queries.items():\n",
        "            print(f\"Executing query: {query_name}\")\n",
        "            result, columns = execute_query(conn, query)\n",
        "            if result and columns:\n",
        "                df = pd.DataFrame(result, columns=columns)\n",
        "                df_sorted = df.sort_values(by=df.columns[0])  # Ordenar por la primera columna\n",
        "                print(f\"Resultados de '{query_name}':\")\n",
        "                display(df_sorted)  # Mostrar tabla ordenada en el notebook\n",
        "            else:\n",
        "                print(f\"No data returned for query: {query_name}\")\n",
        "\n",
        "        # Cerrar conexión\n",
        "        conn.close()\n",
        "        print(\"Conexión cerrada.\")"
      ],
      "outputs": [],
      "execution_count": null,
      "metadata": {
        "gather": {
          "logged": 1737378139935
        }
      }
    },
    {
      "cell_type": "markdown",
      "source": [],
      "metadata": {
        "nteract": {
          "transient": {
            "deleting": false
          }
        }
      }
    },
    {
      "cell_type": "code",
      "source": [
        "import psycopg2\n",
        "from psycopg2 import sql, Error\n",
        "import pandas as pd\n",
        "\n",
        "# Función para ejecutar una consulta SQL con parámetros\n",
        "def execute_query(conn, query, params=None):\n",
        "    \"\"\"\n",
        "    Ejecuta una consulta SQL con manejo de errores y soporte para parámetros.\n",
        "    \"\"\"\n",
        "    try:\n",
        "        with conn.cursor() as cursor:\n",
        "            cursor.execute(sql.SQL(query), params)  # Pasar la consulta como SQL seguro\n",
        "            conn.commit()\n",
        "            print(f\"Query executed successfully: {query[:50]}...\")\n",
        "\n",
        "            if cursor.description:\n",
        "                return cursor.fetchall(), [desc[0] for desc in cursor.description]  # Obtener nombres de columnas\n",
        "            else:\n",
        "                return [], []  # Retornar listas vacías si no hay resultados\n",
        "    except psycopg2.Error as err:\n",
        "        conn.rollback()\n",
        "        print(f\"Error executing query: {err}\")\n",
        "        return [], []\n",
        "\n",
        "# Función para conectar a la base de datos\n",
        "def create_database_connection():\n",
        "    try:\n",
        "        conn = psycopg2.connect(\n",
        "            database=\"data_powergen\", \n",
        "            user=\"datafundamental_owner\", \n",
        "            password=\"uozci0wQGpA6\", \n",
        "            host=\"ep-solitary-pond-a2p3evpo.eu-central-1.aws.neon.tech\", \n",
        "            sslmode=\"require\", \n",
        "            port=5432\n",
        "        )\n",
        "        print(\"Connected to 'data_powergen' successfully.\")\n",
        "        return conn\n",
        "    except psycopg2.Error as err:\n",
        "        print(f\"Error: {err}\")\n",
        "        return None\n",
        "\n",
        "# Consulta parametrizada utilizando el módulo sql de psycopg2\n",
        "query_parametrizada = \"\"\"\n",
        "    SELECT id_orden, id_equipo, costo_mantenimiento, tiempo_reparacion_horas\n",
        "    FROM historicos_ordenes\n",
        "    WHERE tipo_mantenimiento = 'Correctivo' AND id_equipo = %s;\n",
        "\"\"\"\n",
        "sql_queries = {\n",
        "    \"create_resultados_join\": \"\"\"\n",
        "        CREATE TABLE IF NOT EXISTS resultados_join AS\n",
        "        SELECT \n",
        "            h.id_equipo,\n",
        "            COUNT(h.id_orden) AS total_ordenes_mantenimiento,\n",
        "            AVG(r.temperatura_c) AS promedio_temperatura,\n",
        "            AVG(r.vibracion_mm_s) AS promedio_vibracion,\n",
        "            AVG(r.presion_bar) AS promedio_presion\n",
        "        FROM historicos_ordenes h\n",
        "        LEFT JOIN registros_condiciones r\n",
        "        ON h.id_equipo = r.id_equipo\n",
        "        GROUP BY h.id_equipo;\n",
        "    \"\"\",\n",
        "    \"total_ordenes_por_equipo\": \"\"\"\n",
        "        SELECT id_equipo, COUNT(id_orden) AS total_ordenes\n",
        "        FROM historicos_ordenes\n",
        "        GROUP BY id_equipo;\n",
        "    \"\"\",\n",
        "    \"duracion_promedio_vida_util\": \"\"\"\n",
        "        SELECT AVG(vida_util_anios) AS duracion_promedio_vida_util\n",
        "        FROM caracteristicas_equipos;\n",
        "    \"\"\",\n",
        "    \"costo_promedio_correctivo\": \"\"\"\n",
        "        SELECT AVG(costo_mantenimiento) AS costo_promedio_correctivo\n",
        "        FROM historicos_ordenes\n",
        "        WHERE tipo_mantenimiento = 'Correctivo';\n",
        "    \"\"\",\n",
        "    \"equipo_mas_fallas\": \"\"\"\n",
        "        SELECT id_equipo, COUNT(id_orden) AS total_correctivo\n",
        "        FROM historicos_ordenes\n",
        "        WHERE tipo_mantenimiento = 'Correctivo'\n",
        "        GROUP BY id_equipo\n",
        "        ORDER BY total_correctivo DESC\n",
        "        LIMIT 1;\n",
        "    \"\"\",\n",
        "    \"temperatura_resumen\": \"\"\"\n",
        "        SELECT id_equipo, AVG(temperatura_c) AS promedio_temp, MAX(temperatura_c) AS max_temp\n",
        "        FROM registros_condiciones\n",
        "        GROUP BY id_equipo;\n",
        "    \"\"\",\n",
        "    \"ordenes_correctivas_equipo\": \"\"\"\n",
        "        SELECT id_orden, id_equipo, costo_mantenimiento, tiempo_reparacion_horas\n",
        "        FROM historicos_ordenes\n",
        "        WHERE tipo_mantenimiento = 'Correctivo' AND id_equipo = %s;\n",
        "    \"\"\",\n",
        "    \"dias_vibracion_temperatura\": \"\"\"\n",
        "        SELECT *\n",
        "        FROM registros_condiciones\n",
        "        WHERE vibracion_mm_s > 3.0 AND temperatura_c > 60;\n",
        "    \"\"\",\n",
        "    \"tiempo_promedio_mantenimiento\": \"\"\"\n",
        "        WITH diferencias AS (\n",
        "            SELECT \n",
        "                id_equipo,\n",
        "                EXTRACT(EPOCH FROM AGE(fecha, LAG(fecha) OVER (PARTITION BY id_equipo ORDER BY fecha))) / 3600 AS tiempo_entre_mantenimientos\n",
        "            FROM historicos_ordenes\n",
        "        )\n",
        "        SELECT \n",
        "            id_equipo, \n",
        "            AVG(tiempo_entre_mantenimientos) AS tiempo_promedio_horas\n",
        "        FROM diferencias\n",
        "        GROUP BY id_equipo;\n",
        "    \"\"\",\n",
        "    \"suma_horas_acumuladas\": \"\"\"\n",
        "        SELECT id_equipo, SUM(horas_acumuladas) AS total_horas_acumuladas\n",
        "        FROM registros_condiciones\n",
        "        GROUP BY id_equipo;\n",
        "    \"\"\"\n",
        "}\n",
        "# Ejecutar las consultas con parámetros\n",
        "if __name__ == \"__main__\":\n",
        "    conn = create_database_connection()\n",
        "    if conn:\n",
        "        equipo_id = ('E005',)  # Parámetro debe ser tupla para psycopg2\n",
        "\n",
        "        print(\"Executing query: ordenes_correctivas_equipo\")\n",
        "        result, columns = execute_query(conn, query_parametrizada, equipo_id)\n",
        "\n",
        "        if result and columns:\n",
        "            # Convertir a DataFrame y ordenar por costo de mantenimiento\n",
        "            df = pd.DataFrame(result, columns=columns)\n",
        "            df_sorted = df.sort_values(by='costo_mantenimiento', ascending=False)\n",
        "\n",
        "            print(\"Resultados de la consulta parametrizada ordenados:\")\n",
        "            display(df_sorted)  # Mostrar resultados ordenados en Azure Notebook\n",
        "        else:\n",
        "            print(\"No data returned for query.\")\n",
        "\n",
        "        conn.close()\n",
        "        print(\"Conexión cerrada.\")\n"
      ],
      "outputs": [
        {
          "output_type": "stream",
          "name": "stdout",
          "text": "Connected to 'data_powergen' successfully.\nExecuting query: ordenes_correctivas_equipo\nQuery executed successfully: \n    SELECT id_orden, id_equipo, costo_mantenimien...\nResultados de la consulta parametrizada ordenados:\n"
        },
        {
          "output_type": "display_data",
          "data": {
            "text/plain": "     id_orden id_equipo costo_mantenimiento tiempo_reparacion_horas\n184  OT007244      E005                4984                       3\n80   OT003288      E005                4969                      34\n19   OT000671      E005                4956                      33\n64   OT002766      E005                4948                      29\n237  OT009182      E005                4946                      44\n..        ...       ...                 ...                     ...\n251  OT009941      E005                 577                       2\n70   OT002883      E005                 577                      16\n29   OT001226      E005                 556                      15\n222  OT008368      E005                 503                      41\n243  OT009396      E005                 501                       5\n\n[254 rows x 4 columns]",
            "text/html": "<div>\n<style scoped>\n    .dataframe tbody tr th:only-of-type {\n        vertical-align: middle;\n    }\n\n    .dataframe tbody tr th {\n        vertical-align: top;\n    }\n\n    .dataframe thead th {\n        text-align: right;\n    }\n</style>\n<table border=\"1\" class=\"dataframe\">\n  <thead>\n    <tr style=\"text-align: right;\">\n      <th></th>\n      <th>id_orden</th>\n      <th>id_equipo</th>\n      <th>costo_mantenimiento</th>\n      <th>tiempo_reparacion_horas</th>\n    </tr>\n  </thead>\n  <tbody>\n    <tr>\n      <th>184</th>\n      <td>OT007244</td>\n      <td>E005</td>\n      <td>4984</td>\n      <td>3</td>\n    </tr>\n    <tr>\n      <th>80</th>\n      <td>OT003288</td>\n      <td>E005</td>\n      <td>4969</td>\n      <td>34</td>\n    </tr>\n    <tr>\n      <th>19</th>\n      <td>OT000671</td>\n      <td>E005</td>\n      <td>4956</td>\n      <td>33</td>\n    </tr>\n    <tr>\n      <th>64</th>\n      <td>OT002766</td>\n      <td>E005</td>\n      <td>4948</td>\n      <td>29</td>\n    </tr>\n    <tr>\n      <th>237</th>\n      <td>OT009182</td>\n      <td>E005</td>\n      <td>4946</td>\n      <td>44</td>\n    </tr>\n    <tr>\n      <th>...</th>\n      <td>...</td>\n      <td>...</td>\n      <td>...</td>\n      <td>...</td>\n    </tr>\n    <tr>\n      <th>251</th>\n      <td>OT009941</td>\n      <td>E005</td>\n      <td>577</td>\n      <td>2</td>\n    </tr>\n    <tr>\n      <th>70</th>\n      <td>OT002883</td>\n      <td>E005</td>\n      <td>577</td>\n      <td>16</td>\n    </tr>\n    <tr>\n      <th>29</th>\n      <td>OT001226</td>\n      <td>E005</td>\n      <td>556</td>\n      <td>15</td>\n    </tr>\n    <tr>\n      <th>222</th>\n      <td>OT008368</td>\n      <td>E005</td>\n      <td>503</td>\n      <td>41</td>\n    </tr>\n    <tr>\n      <th>243</th>\n      <td>OT009396</td>\n      <td>E005</td>\n      <td>501</td>\n      <td>5</td>\n    </tr>\n  </tbody>\n</table>\n<p>254 rows × 4 columns</p>\n</div>"
          },
          "metadata": {}
        },
        {
          "output_type": "stream",
          "name": "stdout",
          "text": "Conexión cerrada.\n"
        }
      ],
      "execution_count": 9,
      "metadata": {
        "gather": {
          "logged": 1737378374361
        }
      }
    }
  ],
  "metadata": {
    "kernelspec": {
      "name": "python38-azureml",
      "language": "python",
      "display_name": "Python 3.8 - AzureML"
    },
    "language_info": {
      "name": "python",
      "version": "3.10.11",
      "mimetype": "text/x-python",
      "codemirror_mode": {
        "name": "ipython",
        "version": 3
      },
      "pygments_lexer": "ipython3",
      "nbconvert_exporter": "python",
      "file_extension": ".py"
    },
    "kernel_info": {
      "name": "python38-azureml"
    },
    "microsoft": {
      "host": {
        "AzureML": {
          "notebookHasBeenCompleted": true
        }
      }
    },
    "nteract": {
      "version": "nteract-front-end@1.0.0"
    }
  },
  "nbformat": 4,
  "nbformat_minor": 2
}