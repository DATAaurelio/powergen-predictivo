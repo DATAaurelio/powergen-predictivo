{
  "cells": [
    {
      "cell_type": "code",
      "source": [
        "import psycopg2\n",
        "from psycopg2 import sql"
      ],
      "outputs": [],
      "execution_count": null,
      "metadata": {}
    },
    {
      "cell_type": "code",
      "source": [
        "def create_server_connection():\n",
        "    \"\"\"Crea la conexión con el servidor PostgreSQL.\"\"\"\n",
        "    conn = None\n",
        "    try:\n",
        "        conn = psycopg2.connect(\n",
        "            database=\"datafundamental\",  # Nombre inicial (puedes cambiar esto después)\n",
        "            user=\"datafundamental_owner\",\n",
        "            password=\"uozci0wQGpA6\",\n",
        "            host=\"ep-solitary-ponda2p3evpo.eu-cetral-1.aws.neon.tech\",\n",
        "            sslmode=\"require\",\n",
        "            port=5432\n",
        "        )\n",
        "        print(\"Conexión exitosa a PostgreSQL\")\n",
        "    except Exception as err:\n",
        "        print(f\"Error: '{err}'\")\n",
        "    return conn\n",
        "\n",
        "def create_database(conn, database_name):\n",
        "    \"\"\"Crea una base de datos si no existe.\"\"\"\n",
        "    try:\n",
        "        conn.autocommit = True\n",
        "        with conn.cursor() as cursor:\n",
        "            cursor.execute(\n",
        "                sql.SQL(\"CREATE DATABASE {}\").format(sql.Identifier(database_name))\n",
        "            )\n",
        "        print(f\"Base de datos '{database_name}' creada exitosamente.\")\n",
        "    except Exception as err:\n",
        "        print(f\"Error creando la base de datos '{database_name}': {err}\")\n",
        "\n",
        "def main():\n",
        "    \"\"\"Función principal para crear la base de datos.\"\"\"\n",
        "    connection = create_server_connection()\n",
        "    if connection:\n",
        "        create_database(connection, \"data_powergen\")\n",
        "        connection.close()\n",
        "\n",
        "# Ejecuta el script\n",
        "if __name__ == \"__main__\":\n",
        "    main()\n"
      ],
      "outputs": [],
      "execution_count": null,
      "metadata": {}
    },
    {
      "cell_type": "code",
      "source": [
        "conn = psycopg2.connect(\n",
        "    database=\"data_powergen\",\n",
        "    user=\"datafundamental_owner\",\n",
        "    password=\"uozci0wQGpA6\",\n",
        "    host=\"ep-solitary-ponda2p3evpo.eu-cetral-1.aws.neon.tech\",\n",
        "    sslmode=\"require\",\n",
        "    port=5432\n",
        ")\n"
      ],
      "outputs": [],
      "execution_count": null,
      "metadata": {}
    }
  ],
  "metadata": {
    "kernelspec": {
      "display_name": "Python 3.10 - SDK v2",
      "language": "python",
      "name": "python310-sdkv2"
    },
    "language_info": {
      "codemirror_mode": {
        "name": "ipython",
        "version": 3
      },
      "file_extension": ".py",
      "mimetype": "text/x-python",
      "name": "python",
      "nbconvert_exporter": "python",
      "pygments_lexer": "ipython3",
      "version": "3.10.6"
    },
    "microsoft": {
      "ms_spell_check": {
        "ms_spell_check_language": "es"
      }
    },
    "nteract": {
      "version": "nteract-front-end@1.0.0"
    }
  },
  "nbformat": 4,
  "nbformat_minor": 2
}